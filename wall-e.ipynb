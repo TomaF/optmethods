{
 "cells": [
  {
   "cell_type": "code",
   "execution_count": 1,
   "metadata": {
    "collapsed": true
   },
   "outputs": [],
   "source": [
    "import imageio\n",
    "import numpy as np\n",
    "import sklearn.decomposition as skd\n",
    "from sklearn.feature_extraction import image\n",
    "from sklearn.decomposition import PCA\n",
    "\n",
    "pca = PCA(n_components= 100)"
   ]
  },
  {
   "cell_type": "code",
   "execution_count": 2,
   "metadata": {
    "collapsed": false
   },
   "outputs": [],
   "source": [
    "def get_cubes(videoname):\n",
    "    reader = imageio.get_reader(videoname)\n",
    "    patches_collection = []\n",
    "    cubes = []\n",
    "    i = 0\n",
    "    for im in reader:\n",
    "        frame_collection = []\n",
    "        for y in range(9):\n",
    "            for x in range(16):\n",
    "                patch = im[y*80:y*80+80,x*80:x*80+80,:]\n",
    "                frame_collection.append(patch)\n",
    "        patches_collection.append(frame_collection)\n",
    "        i+=1\n",
    "        if i == 5:\n",
    "            cubes.append(patches_collection)\n",
    "            i = 0\n",
    "            patches_collection = [] \n",
    "    cubes = np.array(cubes)\n",
    "    result = []\n",
    "    for j in xrange(cubes.shape[0]):\n",
    "        res = list()\n",
    "        tmp = cubes[j]\n",
    "        for i in xrange(tmp.shape[1]):\n",
    "            res.append(np.concatenate(tmp[:,i], axis=2))\n",
    "        result.append(res)\n",
    "    return np.array(result)\n",
    "\n",
    "def get_features(result):\n",
    "    global pca\n",
    "    feats = []\n",
    "    for j in range(result.shape[0]):\n",
    "        training_features = []\n",
    "        training_res = result[j]\n",
    "        for i in range(len(training_res)):\n",
    "            grad = np.gradient(training_res[i])\n",
    "            grad = np.array(grad)\n",
    "            training_features.append(grad.reshape(-1))\n",
    "        training_features = np.array(training_features)\n",
    "        training_features= pca.fit_transform(training_features)\n",
    "        feats.append(training_features)\n",
    "    feats = np.array(feats)\n",
    "    return np.array(feats)"
   ]
  },
  {
   "cell_type": "code",
   "execution_count": 3,
   "metadata": {
    "collapsed": false
   },
   "outputs": [
    {
     "name": "stdout",
     "output_type": "stream",
     "text": [
      "(4, 144, 80, 80, 15)\n",
      "(4, 144, 100)\n"
     ]
    }
   ],
   "source": [
    "training_cubes = get_cubes('training.mp4')\n",
    "print training_cubes.shape\n",
    "training_features = get_features(training_cubes)\n",
    "print training_features.shape"
   ]
  },
  {
   "cell_type": "code",
   "execution_count": 4,
   "metadata": {
    "collapsed": false
   },
   "outputs": [
    {
     "name": "stdout",
     "output_type": "stream",
     "text": [
      "(100, 144, 80, 80, 15)\n"
     ]
    }
   ],
   "source": [
    "test_cubes = get_cubes('wall-e.mp4')\n",
    "print test_cubes.shape"
   ]
  },
  {
   "cell_type": "code",
   "execution_count": 5,
   "metadata": {
    "collapsed": false
   },
   "outputs": [
    {
     "name": "stdout",
     "output_type": "stream",
     "text": [
      "(100, 144, 100)\n"
     ]
    }
   ],
   "source": [
    "test_features = get_features(test_cubes)\n",
    "print test_features.shape"
   ]
  },
  {
   "cell_type": "code",
   "execution_count": 8,
   "metadata": {
    "collapsed": false
   },
   "outputs": [
    {
     "name": "stdout",
     "output_type": "stream",
     "text": [
      "(576, 100)\n"
     ]
    }
   ],
   "source": [
    "reshaped_training_f = np.concatenate(training_features, axis=0)\n",
    "print reshaped_training_f.shape\n",
    "#(576,100)"
   ]
  },
  {
   "cell_type": "code",
   "execution_count": 9,
   "metadata": {
    "collapsed": false
   },
   "outputs": [],
   "source": [
    "m = skd.DictionaryLearning(n_components=100)\n",
    "dic = m.fit(np.array(reshaped_training_f)) "
   ]
  },
  {
   "cell_type": "code",
   "execution_count": 136,
   "metadata": {
    "collapsed": false
   },
   "outputs": [
    {
     "name": "stdout",
     "output_type": "stream",
     "text": [
      "10 loops, best of 3: 108 ms per loop\n"
     ]
    }
   ],
   "source": [
    "%timeit m.transform(test_features[0])"
   ]
  },
  {
   "cell_type": "code",
   "execution_count": 14,
   "metadata": {
    "collapsed": false
   },
   "outputs": [
    {
     "name": "stdout",
     "output_type": "stream",
     "text": [
      "(100, 144)\n"
     ]
    }
   ],
   "source": [
    "from numpy.linalg import norm\n",
    "norms_per_cube = []\n",
    "for i in xrange(test_features.shape[0]):\n",
    "    features = test_features[i]\n",
    "    result = m.transform(features) #D*b\n",
    "    p = features - result #x-D*b\n",
    "    norms = []\n",
    "    for i in xrange(result.shape[0]):\n",
    "        norms.append(norm(p[i,:]))\n",
    "    norms_per_cube.append(norms)\n",
    "norms_per_cube = np.array(norms_per_cube)\n",
    "print norms_per_cube.shape\n",
    "#(100,144)"
   ]
  },
  {
   "cell_type": "code",
   "execution_count": 27,
   "metadata": {
    "collapsed": false
   },
   "outputs": [
    {
     "name": "stdout",
     "output_type": "stream",
     "text": [
      "(100,)\n"
     ]
    }
   ],
   "source": [
    "abnormal_indices =[]\n",
    "for norms in norms_per_cube:\n",
    "    index = np.array([i for i,v in enumerate(norms) if v >= 40000])\n",
    "    abnormal_indices.append(index)\n",
    "print np.array(abnormal_indices).shape"
   ]
  },
  {
   "cell_type": "code",
   "execution_count": 42,
   "metadata": {
    "collapsed": true
   },
   "outputs": [],
   "source": [
    "test_cubes = get_cubes('wall-e.mp4')"
   ]
  },
  {
   "cell_type": "code",
   "execution_count": 138,
   "metadata": {
    "collapsed": false
   },
   "outputs": [
    {
     "name": "stdout",
     "output_type": "stream",
     "text": [
      "(144, 80, 80, 15)\n",
      "(500, 720, 1280, 3)\n"
     ]
    }
   ],
   "source": [
    "test_copy = test_cubes.copy()\n",
    "print test_copy[0].shape\n",
    "result_video = []\n",
    "i = 0\n",
    "for cube_num in xrange(100):\n",
    "    tmp = test_copy[cube_num]\n",
    "    index = np.array(abnormal_indices[cube_num])\n",
    "    if not len(index) == 0:\n",
    "        tmp[index,:,:,1] = 0\n",
    "        tmp[index,:,:,2] = 0\n",
    "        tmp[index,:,:,4] = 0\n",
    "        tmp[index,:,:,5] = 0\n",
    "        tmp[index,:,:,7] = 0\n",
    "        tmp[index,:,:,8] = 0\n",
    "        tmp[index,:,:,10] = 0\n",
    "        tmp[index,:,:,11] = 0\n",
    "        tmp[index,:,:,13] = 0\n",
    "        tmp[index,:,:,14] = 0\n",
    "    test = np.hstack(tmp[k] for k in range(144))\n",
    "    recovered = []\n",
    "    for i in xrange(9):\n",
    "        recovered.append(test[:,1280*i:1280*i+1280,:])\n",
    "    recovered = np.vstack(np.array(recovered))\n",
    "    for pic in xrange(5):\n",
    "        image = recovered[:,:,3*pic:3*pic+3]\n",
    "        result_video.append(image)\n",
    "    \n",
    "result_video = np.array(result_video)\n",
    "print result_video.shape"
   ]
  },
  {
   "cell_type": "code",
   "execution_count": 139,
   "metadata": {
    "collapsed": false,
    "scrolled": true
   },
   "outputs": [
    {
     "name": "stdout",
     "output_type": "stream",
     "text": [
      "Populating the interactive namespace from numpy and matplotlib\n"
     ]
    },
    {
     "name": "stderr",
     "output_type": "stream",
     "text": [
      "WARNING: pylab import has clobbered these variables: ['pylab', 'test']\n",
      "`%matplotlib` prevents importing * from pylab and numpy\n"
     ]
    },
    {
     "data": {
      "image/png": "[encoded data removed]",
      "text/plain": [
       "<matplotlib.figure.Figure at 0x153cf3110>"
      ]
     },
     "metadata": {},
     "output_type": "display_data"
    }
   ],
   "source": [
    "import pylab\n",
    "%pylab inline \n",
    "im=plt.imshow(result_video[450]) \n",
    "plt.show()"
   ]
  },
  {
   "cell_type": "code",
   "execution_count": 140,
   "metadata": {
    "collapsed": true
   },
   "outputs": [],
   "source": [
    "import matplotlib.animation as animation\n",
    "import numpy as np\n",
    "from pylab import *\n",
    "\n",
    "dpi = 300\n",
    "def ani_frame():\n",
    "    global result_video\n",
    "    fig = plt.figure()\n",
    "    ax = fig.add_subplot(111)\n",
    "    ax.set_aspect('equal')\n",
    "    ax.get_xaxis().set_visible(False)\n",
    "    ax.get_yaxis().set_visible(False)\n",
    "\n",
    "    im = ax.imshow(result_video[0])\n",
    "    im.set_clim([0,1])\n",
    "    fig.set_size_inches([5,5])\n",
    "    tight_layout()\n",
    "\n",
    "    def update_img(n):\n",
    "        tmp = result_video[n]\n",
    "        im.set_data(tmp)\n",
    "        return im\n",
    "\n",
    "    #legend(loc=0)\n",
    "    ani = animation.FuncAnimation(fig,update_img,500,interval=30)\n",
    "    writer = animation.writers['ffmpeg'](fps=25)\n",
    "\n",
    "    ani.save('demo4.mp4',writer=writer,dpi=dpi)\n",
    "    return ani"
   ]
  },
  {
   "cell_type": "code",
   "execution_count": 141,
   "metadata": {
    "collapsed": false
   },
   "outputs": [
    {
     "data": {
      "image/png": "[encoded data removed]",
      "text/plain": [
       "<matplotlib.figure.Figure at 0x1106437d0>"
      ]
     },
     "metadata": {},
     "output_type": "display_data"
    }
   ],
   "source": [
    "ani = ani_frame()"
   ]
  },
  {
   "cell_type": "code",
   "execution_count": null,
   "metadata": {
    "collapsed": true
   },
   "outputs": [],
   "source": []
  }
 ],
 "metadata": {
  "kernelspec": {
   "display_name": "Python 2",
   "language": "python",
   "name": "python2"
  },
  "language_info": {
   "codemirror_mode": {
    "name": "ipython",
    "version": 2
   },
   "file_extension": ".py",
   "mimetype": "text/x-python",
   "name": "python",
   "nbconvert_exporter": "python",
   "pygments_lexer": "ipython2",
   "version": "2.7.11"
  }
 },
 "nbformat": 4,
 "nbformat_minor": 0
}
